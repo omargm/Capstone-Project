{
 "cells": [
  {
   "cell_type": "markdown",
   "metadata": {
    "collapsed": true
   },
   "source": [
    "# Capstone project - Week 1"
   ]
  },
  {
   "cell_type": "markdown",
   "metadata": {},
   "source": [
    "By Omar Mora"
   ]
  },
  {
   "cell_type": "markdown",
   "metadata": {},
   "source": [
    "## Data requeriments"
   ]
  },
  {
   "cell_type": "markdown",
   "metadata": {},
   "source": [
    "**1. A list of Toronto neighborhoods and respective postal code**\n",
    "\n",
    "Neighborhoods from Toronto and its postal code will be obtained from Wikipedia:\n",
    "\n",
    "* https://en.wikipedia.org/wiki/List_of_postal_codes_of_Canada:_M\n",
    "\n",
    "Latitude and Longitude of these neighborhoods are exctracted from:\n",
    "* http://cocl.us/Geospatial_data"
   ]
  },
  {
   "cell_type": "markdown",
   "metadata": {},
   "source": [
    "**2. A list of Canada population by postal code**\n",
    "\n",
    "From this data will get adult population to know the number of potential clients in each neighborhood\n",
    "* https://www12.statcan.gc.ca/census-recensement/2016/dp-pd/hlt-fst/pd-pl/Table.cfm?Lang=Eng&T=1201&S=22&O=A"
   ]
  },
  {
   "cell_type": "markdown",
   "metadata": {},
   "source": [
    "**3. A list of Toronto neighborhoods average income**\n",
    "* https://www.canada.ca/content/dam/cra-arc/prog-policy/stats/individual-tax-stats-fsa/2017-tax-year/tbl1b-on-en.pdf"
   ]
  },
  {
   "cell_type": "markdown",
   "metadata": {},
   "source": [
    "**4. A list of all pubs from all neighborhoods in Torontoe**\n",
    "* Foursquare API is going to be used to extract all pubs and include them to the dataset"
   ]
  }
 ],
 "metadata": {
  "kernelspec": {
   "display_name": "Python 3",
   "language": "python",
   "name": "python3"
  },
  "language_info": {
   "codemirror_mode": {
    "name": "ipython",
    "version": 3
   },
   "file_extension": ".py",
   "mimetype": "text/x-python",
   "name": "python",
   "nbconvert_exporter": "python",
   "pygments_lexer": "ipython3",
   "version": "3.7.1"
  }
 },
 "nbformat": 4,
 "nbformat_minor": 1
}
